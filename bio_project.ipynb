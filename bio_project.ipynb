{
  "nbformat": 4,
  "nbformat_minor": 0,
  "metadata": {
    "colab": {
      "name": "bio_project.ipynb",
      "provenance": [],
      "authorship_tag": "ABX9TyMf/taA6Z7XizvQSxYzN1iK",
      "include_colab_link": true
    },
    "kernelspec": {
      "name": "python3",
      "display_name": "Python 3"
    },
    "language_info": {
      "name": "python"
    },
    "gpuClass": "standard"
  },
  "cells": [
    {
      "cell_type": "markdown",
      "metadata": {
        "id": "view-in-github",
        "colab_type": "text"
      },
      "source": [
        "<a href=\"https://colab.research.google.com/github/elhamrazi/BioInformatics-Assignments/blob/main/bio_project.ipynb\" target=\"_parent\"><img src=\"https://colab.research.google.com/assets/colab-badge.svg\" alt=\"Open In Colab\"/></a>"
      ]
    },
    {
      "cell_type": "markdown",
      "source": [
        "# Bioinformatic Final Project\n",
        "## Elham Razi - 9731019"
      ],
      "metadata": {
        "id": "Iq9G9RwTQHKs"
      }
    },
    {
      "cell_type": "markdown",
      "source": [
        "## part1: counting kmers:\n",
        "At first we need to transfer our DNA sequences into a fixed sized vector to feed to our model. "
      ],
      "metadata": {
        "id": "DZ4d7bTqeal-"
      }
    },
    {
      "cell_type": "code",
      "source": [
        "from google.colab import drive\n",
        "drive.mount('/content/drive')"
      ],
      "metadata": {
        "colab": {
          "base_uri": "https://localhost:8080/"
        },
        "id": "pnqhY3ZulxJe",
        "outputId": "746d255e-5be4-4de3-ba86-61eb8e56d8fe"
      },
      "execution_count": null,
      "outputs": [
        {
          "output_type": "stream",
          "name": "stdout",
          "text": [
            "Mounted at /content/drive\n"
          ]
        }
      ]
    },
    {
      "cell_type": "code",
      "execution_count": null,
      "metadata": {
        "colab": {
          "base_uri": "https://localhost:8080/",
          "height": 424
        },
        "id": "zG0Fk_Z8J8N1",
        "outputId": "f9afa8ec-5787-4c06-83b3-a073515b630e"
      },
      "outputs": [
        {
          "output_type": "execute_result",
          "data": {
            "text/plain": [
              "        Type                                           Sequence\n",
              "0     Class5  TACCACCTACGCTGACAATGGATGTTATTGTACCCGATTCGAATTA...\n",
              "1     Class5  TGTTTATGTATCCGCCCATAAATAGCTTAGCGTTGACTACCGCTTG...\n",
              "2     Class3  TCAATATAGGCCACGGGCAACCCGTTGATATTTTGTGTGACGGTTG...\n",
              "3     Class6  TAGTTTTAGTAACGTTCCTCTCCGTTCTCAATTTATTCTTTTATTG...\n",
              "4     Class2  TCGCGTGCCGGGGCGACCGCGCCAGTATTGCCCATCCCCTTGATTG...\n",
              "...      ...                                                ...\n",
              "1315  Class5  TACCACCTACGCTGACAATGGATGTTATTGTACCCGTTTCGAATTA...\n",
              "1316  Class6  TAGTTTTAGTAAGTTTGGTCCCATTCAATCACGTTCGGATGCGCTG...\n",
              "1317  Class1  GCTGGGTAATTTTAGGTTGGTTGGCGATCGCGCCACTATCGCACCG...\n",
              "1318  Class5  TACCACCTACGCTGACAATGGATGTTATTGTACCCGATTCGAATTA...\n",
              "1319  Class3  TATCGCACCGCGCTTTGATTGCCCTTTTCGCACACAAGCACGTGCG...\n",
              "\n",
              "[1320 rows x 2 columns]"
            ],
            "text/html": [
              "\n",
              "  <div id=\"df-2b37c92b-cfa4-47b8-89fe-051f71268958\">\n",
              "    <div class=\"colab-df-container\">\n",
              "      <div>\n",
              "<style scoped>\n",
              "    .dataframe tbody tr th:only-of-type {\n",
              "        vertical-align: middle;\n",
              "    }\n",
              "\n",
              "    .dataframe tbody tr th {\n",
              "        vertical-align: top;\n",
              "    }\n",
              "\n",
              "    .dataframe thead th {\n",
              "        text-align: right;\n",
              "    }\n",
              "</style>\n",
              "<table border=\"1\" class=\"dataframe\">\n",
              "  <thead>\n",
              "    <tr style=\"text-align: right;\">\n",
              "      <th></th>\n",
              "      <th>Type</th>\n",
              "      <th>Sequence</th>\n",
              "    </tr>\n",
              "  </thead>\n",
              "  <tbody>\n",
              "    <tr>\n",
              "      <th>0</th>\n",
              "      <td>Class5</td>\n",
              "      <td>TACCACCTACGCTGACAATGGATGTTATTGTACCCGATTCGAATTA...</td>\n",
              "    </tr>\n",
              "    <tr>\n",
              "      <th>1</th>\n",
              "      <td>Class5</td>\n",
              "      <td>TGTTTATGTATCCGCCCATAAATAGCTTAGCGTTGACTACCGCTTG...</td>\n",
              "    </tr>\n",
              "    <tr>\n",
              "      <th>2</th>\n",
              "      <td>Class3</td>\n",
              "      <td>TCAATATAGGCCACGGGCAACCCGTTGATATTTTGTGTGACGGTTG...</td>\n",
              "    </tr>\n",
              "    <tr>\n",
              "      <th>3</th>\n",
              "      <td>Class6</td>\n",
              "      <td>TAGTTTTAGTAACGTTCCTCTCCGTTCTCAATTTATTCTTTTATTG...</td>\n",
              "    </tr>\n",
              "    <tr>\n",
              "      <th>4</th>\n",
              "      <td>Class2</td>\n",
              "      <td>TCGCGTGCCGGGGCGACCGCGCCAGTATTGCCCATCCCCTTGATTG...</td>\n",
              "    </tr>\n",
              "    <tr>\n",
              "      <th>...</th>\n",
              "      <td>...</td>\n",
              "      <td>...</td>\n",
              "    </tr>\n",
              "    <tr>\n",
              "      <th>1315</th>\n",
              "      <td>Class5</td>\n",
              "      <td>TACCACCTACGCTGACAATGGATGTTATTGTACCCGTTTCGAATTA...</td>\n",
              "    </tr>\n",
              "    <tr>\n",
              "      <th>1316</th>\n",
              "      <td>Class6</td>\n",
              "      <td>TAGTTTTAGTAAGTTTGGTCCCATTCAATCACGTTCGGATGCGCTG...</td>\n",
              "    </tr>\n",
              "    <tr>\n",
              "      <th>1317</th>\n",
              "      <td>Class1</td>\n",
              "      <td>GCTGGGTAATTTTAGGTTGGTTGGCGATCGCGCCACTATCGCACCG...</td>\n",
              "    </tr>\n",
              "    <tr>\n",
              "      <th>1318</th>\n",
              "      <td>Class5</td>\n",
              "      <td>TACCACCTACGCTGACAATGGATGTTATTGTACCCGATTCGAATTA...</td>\n",
              "    </tr>\n",
              "    <tr>\n",
              "      <th>1319</th>\n",
              "      <td>Class3</td>\n",
              "      <td>TATCGCACCGCGCTTTGATTGCCCTTTTCGCACACAAGCACGTGCG...</td>\n",
              "    </tr>\n",
              "  </tbody>\n",
              "</table>\n",
              "<p>1320 rows × 2 columns</p>\n",
              "</div>\n",
              "      <button class=\"colab-df-convert\" onclick=\"convertToInteractive('df-2b37c92b-cfa4-47b8-89fe-051f71268958')\"\n",
              "              title=\"Convert this dataframe to an interactive table.\"\n",
              "              style=\"display:none;\">\n",
              "        \n",
              "  <svg xmlns=\"http://www.w3.org/2000/svg\" height=\"24px\"viewBox=\"0 0 24 24\"\n",
              "       width=\"24px\">\n",
              "    <path d=\"M0 0h24v24H0V0z\" fill=\"none\"/>\n",
              "    <path d=\"M18.56 5.44l.94 2.06.94-2.06 2.06-.94-2.06-.94-.94-2.06-.94 2.06-2.06.94zm-11 1L8.5 8.5l.94-2.06 2.06-.94-2.06-.94L8.5 2.5l-.94 2.06-2.06.94zm10 10l.94 2.06.94-2.06 2.06-.94-2.06-.94-.94-2.06-.94 2.06-2.06.94z\"/><path d=\"M17.41 7.96l-1.37-1.37c-.4-.4-.92-.59-1.43-.59-.52 0-1.04.2-1.43.59L10.3 9.45l-7.72 7.72c-.78.78-.78 2.05 0 2.83L4 21.41c.39.39.9.59 1.41.59.51 0 1.02-.2 1.41-.59l7.78-7.78 2.81-2.81c.8-.78.8-2.07 0-2.86zM5.41 20L4 18.59l7.72-7.72 1.47 1.35L5.41 20z\"/>\n",
              "  </svg>\n",
              "      </button>\n",
              "      \n",
              "  <style>\n",
              "    .colab-df-container {\n",
              "      display:flex;\n",
              "      flex-wrap:wrap;\n",
              "      gap: 12px;\n",
              "    }\n",
              "\n",
              "    .colab-df-convert {\n",
              "      background-color: #E8F0FE;\n",
              "      border: none;\n",
              "      border-radius: 50%;\n",
              "      cursor: pointer;\n",
              "      display: none;\n",
              "      fill: #1967D2;\n",
              "      height: 32px;\n",
              "      padding: 0 0 0 0;\n",
              "      width: 32px;\n",
              "    }\n",
              "\n",
              "    .colab-df-convert:hover {\n",
              "      background-color: #E2EBFA;\n",
              "      box-shadow: 0px 1px 2px rgba(60, 64, 67, 0.3), 0px 1px 3px 1px rgba(60, 64, 67, 0.15);\n",
              "      fill: #174EA6;\n",
              "    }\n",
              "\n",
              "    [theme=dark] .colab-df-convert {\n",
              "      background-color: #3B4455;\n",
              "      fill: #D2E3FC;\n",
              "    }\n",
              "\n",
              "    [theme=dark] .colab-df-convert:hover {\n",
              "      background-color: #434B5C;\n",
              "      box-shadow: 0px 1px 3px 1px rgba(0, 0, 0, 0.15);\n",
              "      filter: drop-shadow(0px 1px 2px rgba(0, 0, 0, 0.3));\n",
              "      fill: #FFFFFF;\n",
              "    }\n",
              "  </style>\n",
              "\n",
              "      <script>\n",
              "        const buttonEl =\n",
              "          document.querySelector('#df-2b37c92b-cfa4-47b8-89fe-051f71268958 button.colab-df-convert');\n",
              "        buttonEl.style.display =\n",
              "          google.colab.kernel.accessAllowed ? 'block' : 'none';\n",
              "\n",
              "        async function convertToInteractive(key) {\n",
              "          const element = document.querySelector('#df-2b37c92b-cfa4-47b8-89fe-051f71268958');\n",
              "          const dataTable =\n",
              "            await google.colab.kernel.invokeFunction('convertToInteractive',\n",
              "                                                     [key], {});\n",
              "          if (!dataTable) return;\n",
              "\n",
              "          const docLinkHtml = 'Like what you see? Visit the ' +\n",
              "            '<a target=\"_blank\" href=https://colab.research.google.com/notebooks/data_table.ipynb>data table notebook</a>'\n",
              "            + ' to learn more about interactive tables.';\n",
              "          element.innerHTML = '';\n",
              "          dataTable['output_type'] = 'display_data';\n",
              "          await google.colab.output.renderOutput(dataTable, element);\n",
              "          const docLink = document.createElement('div');\n",
              "          docLink.innerHTML = docLinkHtml;\n",
              "          element.appendChild(docLink);\n",
              "        }\n",
              "      </script>\n",
              "    </div>\n",
              "  </div>\n",
              "  "
            ]
          },
          "metadata": {},
          "execution_count": 2
        }
      ],
      "source": [
        "import numpy as np\n",
        "import pandas as pd\n",
        "df = pd.read_csv('/content/drive/MyDrive/training_set.csv')\n",
        "df"
      ]
    },
    {
      "cell_type": "markdown",
      "source": [
        "### Getting all the substrings of length L and count the frequency of k-mers."
      ],
      "metadata": {
        "id": "2jdFTQBlC-uk"
      }
    },
    {
      "cell_type": "code",
      "source": [
        "def get_all_substrings(string, l, kmers):\n",
        "    string = string.strip()\n",
        "    temp = [0 for i in range(len(kmers))]\n",
        "    # print(temp)\n",
        "    substrings = []\n",
        "    for i in range(len(string)):\n",
        "        s = string[i:l+i]\n",
        "        if len(s) <= len(string):\n",
        "            if len(s) == l:\n",
        "                substrings.append(s)\n",
        "                temp[kmers[s]] += 1\n",
        "    return temp\n"
      ],
      "metadata": {
        "id": "Q-UTWL69p7on"
      },
      "execution_count": null,
      "outputs": []
    },
    {
      "cell_type": "markdown",
      "source": [
        "### getting all the kmers of length 5"
      ],
      "metadata": {
        "id": "fGzj7v2uqHrt"
      }
    },
    {
      "cell_type": "code",
      "source": [
        "my_set = ['A', 'C', 'G', 'T']\n",
        "all_kmers = {}\n",
        "\n",
        "count = 0\n",
        "for i in range(len(my_set)):\n",
        "    for j in range(len(my_set)):\n",
        "        for k in range(len(my_set)):\n",
        "            for l in range(len(my_set)):\n",
        "                for m in range(len(my_set)):\n",
        "                    x = my_set[i] + my_set[j] + my_set[k] + my_set[l] + my_set[m]\n",
        "                    if x not in all_kmers.keys():\n",
        "                        all_kmers[x] = count\n",
        "                        count += 1\n",
        "print(all_kmers)"
      ],
      "metadata": {
        "colab": {
          "base_uri": "https://localhost:8080/"
        },
        "id": "Cu2ve3q2BmN1",
        "outputId": "d936fce2-9d2f-4253-b770-c4005f9981ef"
      },
      "execution_count": null,
      "outputs": [
        {
          "output_type": "stream",
          "name": "stdout",
          "text": [
            "{'AAAAA': 0, 'AAAAC': 1, 'AAAAG': 2, 'AAAAT': 3, 'AAACA': 4, 'AAACC': 5, 'AAACG': 6, 'AAACT': 7, 'AAAGA': 8, 'AAAGC': 9, 'AAAGG': 10, 'AAAGT': 11, 'AAATA': 12, 'AAATC': 13, 'AAATG': 14, 'AAATT': 15, 'AACAA': 16, 'AACAC': 17, 'AACAG': 18, 'AACAT': 19, 'AACCA': 20, 'AACCC': 21, 'AACCG': 22, 'AACCT': 23, 'AACGA': 24, 'AACGC': 25, 'AACGG': 26, 'AACGT': 27, 'AACTA': 28, 'AACTC': 29, 'AACTG': 30, 'AACTT': 31, 'AAGAA': 32, 'AAGAC': 33, 'AAGAG': 34, 'AAGAT': 35, 'AAGCA': 36, 'AAGCC': 37, 'AAGCG': 38, 'AAGCT': 39, 'AAGGA': 40, 'AAGGC': 41, 'AAGGG': 42, 'AAGGT': 43, 'AAGTA': 44, 'AAGTC': 45, 'AAGTG': 46, 'AAGTT': 47, 'AATAA': 48, 'AATAC': 49, 'AATAG': 50, 'AATAT': 51, 'AATCA': 52, 'AATCC': 53, 'AATCG': 54, 'AATCT': 55, 'AATGA': 56, 'AATGC': 57, 'AATGG': 58, 'AATGT': 59, 'AATTA': 60, 'AATTC': 61, 'AATTG': 62, 'AATTT': 63, 'ACAAA': 64, 'ACAAC': 65, 'ACAAG': 66, 'ACAAT': 67, 'ACACA': 68, 'ACACC': 69, 'ACACG': 70, 'ACACT': 71, 'ACAGA': 72, 'ACAGC': 73, 'ACAGG': 74, 'ACAGT': 75, 'ACATA': 76, 'ACATC': 77, 'ACATG': 78, 'ACATT': 79, 'ACCAA': 80, 'ACCAC': 81, 'ACCAG': 82, 'ACCAT': 83, 'ACCCA': 84, 'ACCCC': 85, 'ACCCG': 86, 'ACCCT': 87, 'ACCGA': 88, 'ACCGC': 89, 'ACCGG': 90, 'ACCGT': 91, 'ACCTA': 92, 'ACCTC': 93, 'ACCTG': 94, 'ACCTT': 95, 'ACGAA': 96, 'ACGAC': 97, 'ACGAG': 98, 'ACGAT': 99, 'ACGCA': 100, 'ACGCC': 101, 'ACGCG': 102, 'ACGCT': 103, 'ACGGA': 104, 'ACGGC': 105, 'ACGGG': 106, 'ACGGT': 107, 'ACGTA': 108, 'ACGTC': 109, 'ACGTG': 110, 'ACGTT': 111, 'ACTAA': 112, 'ACTAC': 113, 'ACTAG': 114, 'ACTAT': 115, 'ACTCA': 116, 'ACTCC': 117, 'ACTCG': 118, 'ACTCT': 119, 'ACTGA': 120, 'ACTGC': 121, 'ACTGG': 122, 'ACTGT': 123, 'ACTTA': 124, 'ACTTC': 125, 'ACTTG': 126, 'ACTTT': 127, 'AGAAA': 128, 'AGAAC': 129, 'AGAAG': 130, 'AGAAT': 131, 'AGACA': 132, 'AGACC': 133, 'AGACG': 134, 'AGACT': 135, 'AGAGA': 136, 'AGAGC': 137, 'AGAGG': 138, 'AGAGT': 139, 'AGATA': 140, 'AGATC': 141, 'AGATG': 142, 'AGATT': 143, 'AGCAA': 144, 'AGCAC': 145, 'AGCAG': 146, 'AGCAT': 147, 'AGCCA': 148, 'AGCCC': 149, 'AGCCG': 150, 'AGCCT': 151, 'AGCGA': 152, 'AGCGC': 153, 'AGCGG': 154, 'AGCGT': 155, 'AGCTA': 156, 'AGCTC': 157, 'AGCTG': 158, 'AGCTT': 159, 'AGGAA': 160, 'AGGAC': 161, 'AGGAG': 162, 'AGGAT': 163, 'AGGCA': 164, 'AGGCC': 165, 'AGGCG': 166, 'AGGCT': 167, 'AGGGA': 168, 'AGGGC': 169, 'AGGGG': 170, 'AGGGT': 171, 'AGGTA': 172, 'AGGTC': 173, 'AGGTG': 174, 'AGGTT': 175, 'AGTAA': 176, 'AGTAC': 177, 'AGTAG': 178, 'AGTAT': 179, 'AGTCA': 180, 'AGTCC': 181, 'AGTCG': 182, 'AGTCT': 183, 'AGTGA': 184, 'AGTGC': 185, 'AGTGG': 186, 'AGTGT': 187, 'AGTTA': 188, 'AGTTC': 189, 'AGTTG': 190, 'AGTTT': 191, 'ATAAA': 192, 'ATAAC': 193, 'ATAAG': 194, 'ATAAT': 195, 'ATACA': 196, 'ATACC': 197, 'ATACG': 198, 'ATACT': 199, 'ATAGA': 200, 'ATAGC': 201, 'ATAGG': 202, 'ATAGT': 203, 'ATATA': 204, 'ATATC': 205, 'ATATG': 206, 'ATATT': 207, 'ATCAA': 208, 'ATCAC': 209, 'ATCAG': 210, 'ATCAT': 211, 'ATCCA': 212, 'ATCCC': 213, 'ATCCG': 214, 'ATCCT': 215, 'ATCGA': 216, 'ATCGC': 217, 'ATCGG': 218, 'ATCGT': 219, 'ATCTA': 220, 'ATCTC': 221, 'ATCTG': 222, 'ATCTT': 223, 'ATGAA': 224, 'ATGAC': 225, 'ATGAG': 226, 'ATGAT': 227, 'ATGCA': 228, 'ATGCC': 229, 'ATGCG': 230, 'ATGCT': 231, 'ATGGA': 232, 'ATGGC': 233, 'ATGGG': 234, 'ATGGT': 235, 'ATGTA': 236, 'ATGTC': 237, 'ATGTG': 238, 'ATGTT': 239, 'ATTAA': 240, 'ATTAC': 241, 'ATTAG': 242, 'ATTAT': 243, 'ATTCA': 244, 'ATTCC': 245, 'ATTCG': 246, 'ATTCT': 247, 'ATTGA': 248, 'ATTGC': 249, 'ATTGG': 250, 'ATTGT': 251, 'ATTTA': 252, 'ATTTC': 253, 'ATTTG': 254, 'ATTTT': 255, 'CAAAA': 256, 'CAAAC': 257, 'CAAAG': 258, 'CAAAT': 259, 'CAACA': 260, 'CAACC': 261, 'CAACG': 262, 'CAACT': 263, 'CAAGA': 264, 'CAAGC': 265, 'CAAGG': 266, 'CAAGT': 267, 'CAATA': 268, 'CAATC': 269, 'CAATG': 270, 'CAATT': 271, 'CACAA': 272, 'CACAC': 273, 'CACAG': 274, 'CACAT': 275, 'CACCA': 276, 'CACCC': 277, 'CACCG': 278, 'CACCT': 279, 'CACGA': 280, 'CACGC': 281, 'CACGG': 282, 'CACGT': 283, 'CACTA': 284, 'CACTC': 285, 'CACTG': 286, 'CACTT': 287, 'CAGAA': 288, 'CAGAC': 289, 'CAGAG': 290, 'CAGAT': 291, 'CAGCA': 292, 'CAGCC': 293, 'CAGCG': 294, 'CAGCT': 295, 'CAGGA': 296, 'CAGGC': 297, 'CAGGG': 298, 'CAGGT': 299, 'CAGTA': 300, 'CAGTC': 301, 'CAGTG': 302, 'CAGTT': 303, 'CATAA': 304, 'CATAC': 305, 'CATAG': 306, 'CATAT': 307, 'CATCA': 308, 'CATCC': 309, 'CATCG': 310, 'CATCT': 311, 'CATGA': 312, 'CATGC': 313, 'CATGG': 314, 'CATGT': 315, 'CATTA': 316, 'CATTC': 317, 'CATTG': 318, 'CATTT': 319, 'CCAAA': 320, 'CCAAC': 321, 'CCAAG': 322, 'CCAAT': 323, 'CCACA': 324, 'CCACC': 325, 'CCACG': 326, 'CCACT': 327, 'CCAGA': 328, 'CCAGC': 329, 'CCAGG': 330, 'CCAGT': 331, 'CCATA': 332, 'CCATC': 333, 'CCATG': 334, 'CCATT': 335, 'CCCAA': 336, 'CCCAC': 337, 'CCCAG': 338, 'CCCAT': 339, 'CCCCA': 340, 'CCCCC': 341, 'CCCCG': 342, 'CCCCT': 343, 'CCCGA': 344, 'CCCGC': 345, 'CCCGG': 346, 'CCCGT': 347, 'CCCTA': 348, 'CCCTC': 349, 'CCCTG': 350, 'CCCTT': 351, 'CCGAA': 352, 'CCGAC': 353, 'CCGAG': 354, 'CCGAT': 355, 'CCGCA': 356, 'CCGCC': 357, 'CCGCG': 358, 'CCGCT': 359, 'CCGGA': 360, 'CCGGC': 361, 'CCGGG': 362, 'CCGGT': 363, 'CCGTA': 364, 'CCGTC': 365, 'CCGTG': 366, 'CCGTT': 367, 'CCTAA': 368, 'CCTAC': 369, 'CCTAG': 370, 'CCTAT': 371, 'CCTCA': 372, 'CCTCC': 373, 'CCTCG': 374, 'CCTCT': 375, 'CCTGA': 376, 'CCTGC': 377, 'CCTGG': 378, 'CCTGT': 379, 'CCTTA': 380, 'CCTTC': 381, 'CCTTG': 382, 'CCTTT': 383, 'CGAAA': 384, 'CGAAC': 385, 'CGAAG': 386, 'CGAAT': 387, 'CGACA': 388, 'CGACC': 389, 'CGACG': 390, 'CGACT': 391, 'CGAGA': 392, 'CGAGC': 393, 'CGAGG': 394, 'CGAGT': 395, 'CGATA': 396, 'CGATC': 397, 'CGATG': 398, 'CGATT': 399, 'CGCAA': 400, 'CGCAC': 401, 'CGCAG': 402, 'CGCAT': 403, 'CGCCA': 404, 'CGCCC': 405, 'CGCCG': 406, 'CGCCT': 407, 'CGCGA': 408, 'CGCGC': 409, 'CGCGG': 410, 'CGCGT': 411, 'CGCTA': 412, 'CGCTC': 413, 'CGCTG': 414, 'CGCTT': 415, 'CGGAA': 416, 'CGGAC': 417, 'CGGAG': 418, 'CGGAT': 419, 'CGGCA': 420, 'CGGCC': 421, 'CGGCG': 422, 'CGGCT': 423, 'CGGGA': 424, 'CGGGC': 425, 'CGGGG': 426, 'CGGGT': 427, 'CGGTA': 428, 'CGGTC': 429, 'CGGTG': 430, 'CGGTT': 431, 'CGTAA': 432, 'CGTAC': 433, 'CGTAG': 434, 'CGTAT': 435, 'CGTCA': 436, 'CGTCC': 437, 'CGTCG': 438, 'CGTCT': 439, 'CGTGA': 440, 'CGTGC': 441, 'CGTGG': 442, 'CGTGT': 443, 'CGTTA': 444, 'CGTTC': 445, 'CGTTG': 446, 'CGTTT': 447, 'CTAAA': 448, 'CTAAC': 449, 'CTAAG': 450, 'CTAAT': 451, 'CTACA': 452, 'CTACC': 453, 'CTACG': 454, 'CTACT': 455, 'CTAGA': 456, 'CTAGC': 457, 'CTAGG': 458, 'CTAGT': 459, 'CTATA': 460, 'CTATC': 461, 'CTATG': 462, 'CTATT': 463, 'CTCAA': 464, 'CTCAC': 465, 'CTCAG': 466, 'CTCAT': 467, 'CTCCA': 468, 'CTCCC': 469, 'CTCCG': 470, 'CTCCT': 471, 'CTCGA': 472, 'CTCGC': 473, 'CTCGG': 474, 'CTCGT': 475, 'CTCTA': 476, 'CTCTC': 477, 'CTCTG': 478, 'CTCTT': 479, 'CTGAA': 480, 'CTGAC': 481, 'CTGAG': 482, 'CTGAT': 483, 'CTGCA': 484, 'CTGCC': 485, 'CTGCG': 486, 'CTGCT': 487, 'CTGGA': 488, 'CTGGC': 489, 'CTGGG': 490, 'CTGGT': 491, 'CTGTA': 492, 'CTGTC': 493, 'CTGTG': 494, 'CTGTT': 495, 'CTTAA': 496, 'CTTAC': 497, 'CTTAG': 498, 'CTTAT': 499, 'CTTCA': 500, 'CTTCC': 501, 'CTTCG': 502, 'CTTCT': 503, 'CTTGA': 504, 'CTTGC': 505, 'CTTGG': 506, 'CTTGT': 507, 'CTTTA': 508, 'CTTTC': 509, 'CTTTG': 510, 'CTTTT': 511, 'GAAAA': 512, 'GAAAC': 513, 'GAAAG': 514, 'GAAAT': 515, 'GAACA': 516, 'GAACC': 517, 'GAACG': 518, 'GAACT': 519, 'GAAGA': 520, 'GAAGC': 521, 'GAAGG': 522, 'GAAGT': 523, 'GAATA': 524, 'GAATC': 525, 'GAATG': 526, 'GAATT': 527, 'GACAA': 528, 'GACAC': 529, 'GACAG': 530, 'GACAT': 531, 'GACCA': 532, 'GACCC': 533, 'GACCG': 534, 'GACCT': 535, 'GACGA': 536, 'GACGC': 537, 'GACGG': 538, 'GACGT': 539, 'GACTA': 540, 'GACTC': 541, 'GACTG': 542, 'GACTT': 543, 'GAGAA': 544, 'GAGAC': 545, 'GAGAG': 546, 'GAGAT': 547, 'GAGCA': 548, 'GAGCC': 549, 'GAGCG': 550, 'GAGCT': 551, 'GAGGA': 552, 'GAGGC': 553, 'GAGGG': 554, 'GAGGT': 555, 'GAGTA': 556, 'GAGTC': 557, 'GAGTG': 558, 'GAGTT': 559, 'GATAA': 560, 'GATAC': 561, 'GATAG': 562, 'GATAT': 563, 'GATCA': 564, 'GATCC': 565, 'GATCG': 566, 'GATCT': 567, 'GATGA': 568, 'GATGC': 569, 'GATGG': 570, 'GATGT': 571, 'GATTA': 572, 'GATTC': 573, 'GATTG': 574, 'GATTT': 575, 'GCAAA': 576, 'GCAAC': 577, 'GCAAG': 578, 'GCAAT': 579, 'GCACA': 580, 'GCACC': 581, 'GCACG': 582, 'GCACT': 583, 'GCAGA': 584, 'GCAGC': 585, 'GCAGG': 586, 'GCAGT': 587, 'GCATA': 588, 'GCATC': 589, 'GCATG': 590, 'GCATT': 591, 'GCCAA': 592, 'GCCAC': 593, 'GCCAG': 594, 'GCCAT': 595, 'GCCCA': 596, 'GCCCC': 597, 'GCCCG': 598, 'GCCCT': 599, 'GCCGA': 600, 'GCCGC': 601, 'GCCGG': 602, 'GCCGT': 603, 'GCCTA': 604, 'GCCTC': 605, 'GCCTG': 606, 'GCCTT': 607, 'GCGAA': 608, 'GCGAC': 609, 'GCGAG': 610, 'GCGAT': 611, 'GCGCA': 612, 'GCGCC': 613, 'GCGCG': 614, 'GCGCT': 615, 'GCGGA': 616, 'GCGGC': 617, 'GCGGG': 618, 'GCGGT': 619, 'GCGTA': 620, 'GCGTC': 621, 'GCGTG': 622, 'GCGTT': 623, 'GCTAA': 624, 'GCTAC': 625, 'GCTAG': 626, 'GCTAT': 627, 'GCTCA': 628, 'GCTCC': 629, 'GCTCG': 630, 'GCTCT': 631, 'GCTGA': 632, 'GCTGC': 633, 'GCTGG': 634, 'GCTGT': 635, 'GCTTA': 636, 'GCTTC': 637, 'GCTTG': 638, 'GCTTT': 639, 'GGAAA': 640, 'GGAAC': 641, 'GGAAG': 642, 'GGAAT': 643, 'GGACA': 644, 'GGACC': 645, 'GGACG': 646, 'GGACT': 647, 'GGAGA': 648, 'GGAGC': 649, 'GGAGG': 650, 'GGAGT': 651, 'GGATA': 652, 'GGATC': 653, 'GGATG': 654, 'GGATT': 655, 'GGCAA': 656, 'GGCAC': 657, 'GGCAG': 658, 'GGCAT': 659, 'GGCCA': 660, 'GGCCC': 661, 'GGCCG': 662, 'GGCCT': 663, 'GGCGA': 664, 'GGCGC': 665, 'GGCGG': 666, 'GGCGT': 667, 'GGCTA': 668, 'GGCTC': 669, 'GGCTG': 670, 'GGCTT': 671, 'GGGAA': 672, 'GGGAC': 673, 'GGGAG': 674, 'GGGAT': 675, 'GGGCA': 676, 'GGGCC': 677, 'GGGCG': 678, 'GGGCT': 679, 'GGGGA': 680, 'GGGGC': 681, 'GGGGG': 682, 'GGGGT': 683, 'GGGTA': 684, 'GGGTC': 685, 'GGGTG': 686, 'GGGTT': 687, 'GGTAA': 688, 'GGTAC': 689, 'GGTAG': 690, 'GGTAT': 691, 'GGTCA': 692, 'GGTCC': 693, 'GGTCG': 694, 'GGTCT': 695, 'GGTGA': 696, 'GGTGC': 697, 'GGTGG': 698, 'GGTGT': 699, 'GGTTA': 700, 'GGTTC': 701, 'GGTTG': 702, 'GGTTT': 703, 'GTAAA': 704, 'GTAAC': 705, 'GTAAG': 706, 'GTAAT': 707, 'GTACA': 708, 'GTACC': 709, 'GTACG': 710, 'GTACT': 711, 'GTAGA': 712, 'GTAGC': 713, 'GTAGG': 714, 'GTAGT': 715, 'GTATA': 716, 'GTATC': 717, 'GTATG': 718, 'GTATT': 719, 'GTCAA': 720, 'GTCAC': 721, 'GTCAG': 722, 'GTCAT': 723, 'GTCCA': 724, 'GTCCC': 725, 'GTCCG': 726, 'GTCCT': 727, 'GTCGA': 728, 'GTCGC': 729, 'GTCGG': 730, 'GTCGT': 731, 'GTCTA': 732, 'GTCTC': 733, 'GTCTG': 734, 'GTCTT': 735, 'GTGAA': 736, 'GTGAC': 737, 'GTGAG': 738, 'GTGAT': 739, 'GTGCA': 740, 'GTGCC': 741, 'GTGCG': 742, 'GTGCT': 743, 'GTGGA': 744, 'GTGGC': 745, 'GTGGG': 746, 'GTGGT': 747, 'GTGTA': 748, 'GTGTC': 749, 'GTGTG': 750, 'GTGTT': 751, 'GTTAA': 752, 'GTTAC': 753, 'GTTAG': 754, 'GTTAT': 755, 'GTTCA': 756, 'GTTCC': 757, 'GTTCG': 758, 'GTTCT': 759, 'GTTGA': 760, 'GTTGC': 761, 'GTTGG': 762, 'GTTGT': 763, 'GTTTA': 764, 'GTTTC': 765, 'GTTTG': 766, 'GTTTT': 767, 'TAAAA': 768, 'TAAAC': 769, 'TAAAG': 770, 'TAAAT': 771, 'TAACA': 772, 'TAACC': 773, 'TAACG': 774, 'TAACT': 775, 'TAAGA': 776, 'TAAGC': 777, 'TAAGG': 778, 'TAAGT': 779, 'TAATA': 780, 'TAATC': 781, 'TAATG': 782, 'TAATT': 783, 'TACAA': 784, 'TACAC': 785, 'TACAG': 786, 'TACAT': 787, 'TACCA': 788, 'TACCC': 789, 'TACCG': 790, 'TACCT': 791, 'TACGA': 792, 'TACGC': 793, 'TACGG': 794, 'TACGT': 795, 'TACTA': 796, 'TACTC': 797, 'TACTG': 798, 'TACTT': 799, 'TAGAA': 800, 'TAGAC': 801, 'TAGAG': 802, 'TAGAT': 803, 'TAGCA': 804, 'TAGCC': 805, 'TAGCG': 806, 'TAGCT': 807, 'TAGGA': 808, 'TAGGC': 809, 'TAGGG': 810, 'TAGGT': 811, 'TAGTA': 812, 'TAGTC': 813, 'TAGTG': 814, 'TAGTT': 815, 'TATAA': 816, 'TATAC': 817, 'TATAG': 818, 'TATAT': 819, 'TATCA': 820, 'TATCC': 821, 'TATCG': 822, 'TATCT': 823, 'TATGA': 824, 'TATGC': 825, 'TATGG': 826, 'TATGT': 827, 'TATTA': 828, 'TATTC': 829, 'TATTG': 830, 'TATTT': 831, 'TCAAA': 832, 'TCAAC': 833, 'TCAAG': 834, 'TCAAT': 835, 'TCACA': 836, 'TCACC': 837, 'TCACG': 838, 'TCACT': 839, 'TCAGA': 840, 'TCAGC': 841, 'TCAGG': 842, 'TCAGT': 843, 'TCATA': 844, 'TCATC': 845, 'TCATG': 846, 'TCATT': 847, 'TCCAA': 848, 'TCCAC': 849, 'TCCAG': 850, 'TCCAT': 851, 'TCCCA': 852, 'TCCCC': 853, 'TCCCG': 854, 'TCCCT': 855, 'TCCGA': 856, 'TCCGC': 857, 'TCCGG': 858, 'TCCGT': 859, 'TCCTA': 860, 'TCCTC': 861, 'TCCTG': 862, 'TCCTT': 863, 'TCGAA': 864, 'TCGAC': 865, 'TCGAG': 866, 'TCGAT': 867, 'TCGCA': 868, 'TCGCC': 869, 'TCGCG': 870, 'TCGCT': 871, 'TCGGA': 872, 'TCGGC': 873, 'TCGGG': 874, 'TCGGT': 875, 'TCGTA': 876, 'TCGTC': 877, 'TCGTG': 878, 'TCGTT': 879, 'TCTAA': 880, 'TCTAC': 881, 'TCTAG': 882, 'TCTAT': 883, 'TCTCA': 884, 'TCTCC': 885, 'TCTCG': 886, 'TCTCT': 887, 'TCTGA': 888, 'TCTGC': 889, 'TCTGG': 890, 'TCTGT': 891, 'TCTTA': 892, 'TCTTC': 893, 'TCTTG': 894, 'TCTTT': 895, 'TGAAA': 896, 'TGAAC': 897, 'TGAAG': 898, 'TGAAT': 899, 'TGACA': 900, 'TGACC': 901, 'TGACG': 902, 'TGACT': 903, 'TGAGA': 904, 'TGAGC': 905, 'TGAGG': 906, 'TGAGT': 907, 'TGATA': 908, 'TGATC': 909, 'TGATG': 910, 'TGATT': 911, 'TGCAA': 912, 'TGCAC': 913, 'TGCAG': 914, 'TGCAT': 915, 'TGCCA': 916, 'TGCCC': 917, 'TGCCG': 918, 'TGCCT': 919, 'TGCGA': 920, 'TGCGC': 921, 'TGCGG': 922, 'TGCGT': 923, 'TGCTA': 924, 'TGCTC': 925, 'TGCTG': 926, 'TGCTT': 927, 'TGGAA': 928, 'TGGAC': 929, 'TGGAG': 930, 'TGGAT': 931, 'TGGCA': 932, 'TGGCC': 933, 'TGGCG': 934, 'TGGCT': 935, 'TGGGA': 936, 'TGGGC': 937, 'TGGGG': 938, 'TGGGT': 939, 'TGGTA': 940, 'TGGTC': 941, 'TGGTG': 942, 'TGGTT': 943, 'TGTAA': 944, 'TGTAC': 945, 'TGTAG': 946, 'TGTAT': 947, 'TGTCA': 948, 'TGTCC': 949, 'TGTCG': 950, 'TGTCT': 951, 'TGTGA': 952, 'TGTGC': 953, 'TGTGG': 954, 'TGTGT': 955, 'TGTTA': 956, 'TGTTC': 957, 'TGTTG': 958, 'TGTTT': 959, 'TTAAA': 960, 'TTAAC': 961, 'TTAAG': 962, 'TTAAT': 963, 'TTACA': 964, 'TTACC': 965, 'TTACG': 966, 'TTACT': 967, 'TTAGA': 968, 'TTAGC': 969, 'TTAGG': 970, 'TTAGT': 971, 'TTATA': 972, 'TTATC': 973, 'TTATG': 974, 'TTATT': 975, 'TTCAA': 976, 'TTCAC': 977, 'TTCAG': 978, 'TTCAT': 979, 'TTCCA': 980, 'TTCCC': 981, 'TTCCG': 982, 'TTCCT': 983, 'TTCGA': 984, 'TTCGC': 985, 'TTCGG': 986, 'TTCGT': 987, 'TTCTA': 988, 'TTCTC': 989, 'TTCTG': 990, 'TTCTT': 991, 'TTGAA': 992, 'TTGAC': 993, 'TTGAG': 994, 'TTGAT': 995, 'TTGCA': 996, 'TTGCC': 997, 'TTGCG': 998, 'TTGCT': 999, 'TTGGA': 1000, 'TTGGC': 1001, 'TTGGG': 1002, 'TTGGT': 1003, 'TTGTA': 1004, 'TTGTC': 1005, 'TTGTG': 1006, 'TTGTT': 1007, 'TTTAA': 1008, 'TTTAC': 1009, 'TTTAG': 1010, 'TTTAT': 1011, 'TTTCA': 1012, 'TTTCC': 1013, 'TTTCG': 1014, 'TTTCT': 1015, 'TTTGA': 1016, 'TTTGC': 1017, 'TTTGG': 1018, 'TTTGT': 1019, 'TTTTA': 1020, 'TTTTC': 1021, 'TTTTG': 1022, 'TTTTT': 1023}\n"
          ]
        }
      ]
    },
    {
      "cell_type": "code",
      "source": [
        "data = []\n",
        "\n",
        "for index, row in df.iterrows():\n",
        "    subs = get_all_substrings(row['Sequence'], 5, all_kmers)\n",
        "    data.append(subs)\n",
        "\n",
        "    # print(subs)"
      ],
      "metadata": {
        "id": "h1CjbVXmwKp5"
      },
      "execution_count": null,
      "outputs": []
    },
    {
      "cell_type": "code",
      "source": [
        "lables = pd.get_dummies(df.Type, prefix='type')\n",
        "labels = lables.values.tolist()\n"
      ],
      "metadata": {
        "id": "CX8fp7fPDIn_"
      },
      "execution_count": null,
      "outputs": []
    },
    {
      "cell_type": "markdown",
      "source": [
        "### Now that we have our data and labels in a usable format, we can create our neural network. here we use a CNN and TensorFlow framework."
      ],
      "metadata": {
        "id": "DmxNTmjUIHCW"
      }
    },
    {
      "cell_type": "code",
      "source": [
        "import tensorflow as tf\n",
        "\n",
        "from tensorflow.keras import datasets, layers, models\n",
        "import matplotlib.pyplot as plt"
      ],
      "metadata": {
        "id": "RdaM1OihIGZC"
      },
      "execution_count": null,
      "outputs": []
    },
    {
      "cell_type": "code",
      "source": [
        "training_data = []\n",
        "for d in data:\n",
        "    training_data.append(np.asarray(d).reshape(32, 32))\n",
        "train_data = np.asarray(training_data)\n",
        "train_label = np.asarray(labels)"
      ],
      "metadata": {
        "id": "n2qdnyHFbGoC"
      },
      "execution_count": null,
      "outputs": []
    },
    {
      "cell_type": "code",
      "source": [
        "convolutional_neural_network = models.Sequential([\n",
        "    layers.Conv2D(filters=25, kernel_size=(3, 3), activation='relu', input_shape=(32, 32, 1)), \n",
        "    layers.MaxPooling2D((2, 2)),\n",
        "    layers.Conv2D(filters=64, kernel_size=(3, 3), activation='relu'),\n",
        "    layers.MaxPooling2D((2, 2)),\n",
        "    layers.Dropout(0.2),\n",
        "    layers.Conv2D(filters=64, kernel_size=(3, 3), activation='relu'),\n",
        "    layers.MaxPooling2D((2, 2)),\n",
        "    layers.Flatten(),\n",
        "    layers.Dense(64, activation='relu'),\n",
        "    layers.Dense(6, activation='softmax')\n",
        "])\n"
      ],
      "metadata": {
        "id": "3atkcvKfyCzj"
      },
      "execution_count": null,
      "outputs": []
    },
    {
      "cell_type": "code",
      "source": [
        "convolutional_neural_network.summary()"
      ],
      "metadata": {
        "id": "rEV01W1vzPNY",
        "outputId": "0cda413d-590a-4f90-8410-dcbd82fda19d",
        "colab": {
          "base_uri": "https://localhost:8080/"
        }
      },
      "execution_count": null,
      "outputs": [
        {
          "output_type": "stream",
          "name": "stdout",
          "text": [
            "Model: \"sequential_4\"\n",
            "_________________________________________________________________\n",
            " Layer (type)                Output Shape              Param #   \n",
            "=================================================================\n",
            " conv2d_10 (Conv2D)          (None, 30, 30, 25)        250       \n",
            "                                                                 \n",
            " max_pooling2d_8 (MaxPooling  (None, 15, 15, 25)       0         \n",
            " 2D)                                                             \n",
            "                                                                 \n",
            " conv2d_11 (Conv2D)          (None, 13, 13, 64)        14464     \n",
            "                                                                 \n",
            " max_pooling2d_9 (MaxPooling  (None, 6, 6, 64)         0         \n",
            " 2D)                                                             \n",
            "                                                                 \n",
            " dropout_1 (Dropout)         (None, 6, 6, 64)          0         \n",
            "                                                                 \n",
            " conv2d_12 (Conv2D)          (None, 4, 4, 64)          36928     \n",
            "                                                                 \n",
            " max_pooling2d_10 (MaxPoolin  (None, 2, 2, 64)         0         \n",
            " g2D)                                                            \n",
            "                                                                 \n",
            " flatten_3 (Flatten)         (None, 256)               0         \n",
            "                                                                 \n",
            " dense_6 (Dense)             (None, 64)                16448     \n",
            "                                                                 \n",
            " dense_7 (Dense)             (None, 6)                 390       \n",
            "                                                                 \n",
            "=================================================================\n",
            "Total params: 68,480\n",
            "Trainable params: 68,480\n",
            "Non-trainable params: 0\n",
            "_________________________________________________________________\n"
          ]
        }
      ]
    },
    {
      "cell_type": "code",
      "source": [
        "convolutional_neural_network.compile(optimizer='adam',\n",
        "              loss=tf.keras.losses.categorical_crossentropy,\n",
        "              metrics=['accuracy'])\n",
        "\n",
        "history = convolutional_neural_network.fit(train_data, train_label, epochs=10)"
      ],
      "metadata": {
        "colab": {
          "base_uri": "https://localhost:8080/"
        },
        "id": "QuNsABO1vGnt",
        "outputId": "593a9820-2b83-4f38-db48-dd1bddb86b0c"
      },
      "execution_count": null,
      "outputs": [
        {
          "output_type": "stream",
          "name": "stdout",
          "text": [
            "Epoch 1/10\n",
            "42/42 [==============================] - 2s 45ms/step - loss: 1.3686 - accuracy: 0.5818\n",
            "Epoch 2/10\n",
            "42/42 [==============================] - 2s 45ms/step - loss: 0.2094 - accuracy: 0.9780\n",
            "Epoch 3/10\n",
            "42/42 [==============================] - 2s 45ms/step - loss: 0.0357 - accuracy: 0.9992\n",
            "Epoch 4/10\n",
            "42/42 [==============================] - 2s 43ms/step - loss: 0.0601 - accuracy: 0.9879\n",
            "Epoch 5/10\n",
            "42/42 [==============================] - 2s 44ms/step - loss: 0.0087 - accuracy: 0.9992\n",
            "Epoch 6/10\n",
            "42/42 [==============================] - 2s 44ms/step - loss: 0.0066 - accuracy: 0.9992\n",
            "Epoch 7/10\n",
            "42/42 [==============================] - 2s 43ms/step - loss: 0.0049 - accuracy: 1.0000\n",
            "Epoch 8/10\n",
            "42/42 [==============================] - 2s 44ms/step - loss: 0.0012 - accuracy: 1.0000\n",
            "Epoch 9/10\n",
            "42/42 [==============================] - 2s 44ms/step - loss: 5.8053e-04 - accuracy: 1.0000\n",
            "Epoch 10/10\n",
            "42/42 [==============================] - 2s 44ms/step - loss: 6.2955e-04 - accuracy: 1.0000\n"
          ]
        }
      ]
    },
    {
      "cell_type": "code",
      "source": [
        "df0 = pd.read_csv('/content/drive/MyDrive/development_set.csv')\n",
        "\n",
        "ddata = []\n",
        "\n",
        "for index, row in df0.iterrows():\n",
        "    subs = get_all_substrings(row['Sequence'], 5, all_kmers)\n",
        "    ddata.append(subs)\n"
      ],
      "metadata": {
        "id": "L9CCtuGe0CEN"
      },
      "execution_count": null,
      "outputs": []
    },
    {
      "cell_type": "code",
      "source": [
        "dev_labels = pd.get_dummies(df0.Type, prefix='type')\n",
        "dev = dev_labels.values.tolist()\n"
      ],
      "metadata": {
        "id": "wvVAJXrd08At"
      },
      "execution_count": null,
      "outputs": []
    },
    {
      "cell_type": "code",
      "source": [
        "dev_training_data = []\n",
        "for d in ddata:\n",
        "    dev_training_data.append(np.asarray(d).reshape(32, 32))\n",
        "dev_data = np.asarray(dev_training_data)\n",
        "dev_label = np.asarray(dev)"
      ],
      "metadata": {
        "id": "ypcI6S6v1N3S"
      },
      "execution_count": null,
      "outputs": []
    },
    {
      "cell_type": "code",
      "source": [
        "_, acc = convolutional_neural_network.evaluate(dev_data, dev_label, verbose=1)\n",
        "print('> %.3f' % (acc * 100.0))"
      ],
      "metadata": {
        "colab": {
          "base_uri": "https://localhost:8080/"
        },
        "id": "ez7bawb51q6I",
        "outputId": "93e37260-5127-47c0-b64a-aee223af2aee"
      },
      "execution_count": null,
      "outputs": [
        {
          "output_type": "stream",
          "name": "stdout",
          "text": [
            "6/6 [==============================] - 0s 23ms/step - loss: 2.6175e-04 - accuracy: 1.0000\n",
            "> 100.000\n"
          ]
        }
      ]
    },
    {
      "cell_type": "code",
      "source": [
        "df1 = pd.read_csv('/content/drive/MyDrive/test_set.csv')\n",
        "\n",
        "tdata = []\n",
        "\n",
        "for index, row in df1.iterrows():\n",
        "    subs = get_all_substrings(row['Sequence'], 5, all_kmers)\n",
        "    tdata.append(subs)\n",
        "\n"
      ],
      "metadata": {
        "id": "aKM15raDzsg6"
      },
      "execution_count": null,
      "outputs": []
    },
    {
      "cell_type": "code",
      "source": [
        "test_data = []\n",
        "for d in tdata:\n",
        "    test_data.append(np.asarray(d).reshape(32, 32))\n",
        "test = np.asarray(test_data)"
      ],
      "metadata": {
        "id": "Cw0EywNQ2v3O"
      },
      "execution_count": null,
      "outputs": []
    },
    {
      "cell_type": "code",
      "source": [
        "out = convolutional_neural_network.predict(test)\n",
        "result = []\n",
        "\n",
        "for o in out:\n",
        "    result.append(np.argmax(o) + 1)\n",
        "print(result)\n",
        "\n",
        "res1 = result[0:200]\n",
        "res2 = result[200:400]\n"
      ],
      "metadata": {
        "colab": {
          "base_uri": "https://localhost:8080/"
        },
        "id": "BiI8fnst3GcF",
        "outputId": "8f7168cf-7e9d-4e0e-80f0-02430fdf3c06"
      },
      "execution_count": null,
      "outputs": [
        {
          "output_type": "stream",
          "name": "stdout",
          "text": [
            "[5, 5, 3, 1, 6, 1, 6, 3, 4, 1, 4, 3, 2, 4, 4, 3, 6, 3, 3, 3, 4, 1, 5, 6, 1, 5, 3, 3, 3, 3, 1, 3, 6, 1, 6, 1, 3, 5, 5, 6, 5, 4, 5, 5, 3, 6, 4, 5, 1, 2, 4, 3, 4, 3, 3, 6, 1, 6, 5, 3, 1, 3, 3, 3, 3, 6, 4, 5, 6, 6, 6, 3, 2, 6, 1, 1, 4, 6, 6, 2, 5, 4, 1, 1, 3, 5, 6, 4, 3, 5, 3, 1, 1, 6, 5, 3, 5, 1, 4, 1, 3, 3, 2, 1, 3, 4, 3, 3, 3, 3, 3, 1, 4, 1, 4, 4, 3, 3, 3, 4, 6, 1, 6, 4, 5, 3, 6, 2, 1, 3, 3, 6, 5, 2, 2, 3, 2, 1, 3, 3, 5, 1, 6, 1, 2, 2, 1, 3, 1, 1, 6, 6, 2, 6, 3, 5, 5, 3, 6, 3, 1, 2, 4, 4, 3, 3, 5, 4, 1, 1, 2, 3, 6, 1, 3, 2, 6, 4, 5, 6, 5, 6, 5, 5, 6, 3, 3, 3, 6, 4, 6, 3, 3, 6, 6, 6, 1, 1, 5, 1, 1, 3, 3, 1, 1, 1, 5, 3, 2, 2, 1, 1, 1, 1, 3, 6, 3, 3, 4, 5, 6, 4, 1, 4, 3, 4, 6, 5, 4, 6, 5, 5, 6, 6, 4, 5, 3, 6, 6, 3, 1, 1, 4, 4, 4, 5, 1, 2, 6, 1, 6, 3, 2, 2, 1, 2, 3, 6, 6, 5, 1, 3, 6, 1, 3, 3, 1, 1, 5, 4, 1, 3, 1, 2, 1, 1, 3, 3, 3, 6, 1, 6, 4, 1, 3, 4, 3, 3, 4, 3, 1, 3, 6, 6, 2, 1, 6, 2, 1, 6, 6, 1, 4, 1, 6, 5, 6, 3, 4, 2, 4, 3, 1, 6, 5, 5, 2, 3, 5, 4, 5, 1, 3, 3, 4, 1, 1, 1, 1, 2, 1, 5, 2, 3, 3, 4, 2, 5, 1, 5, 4, 1, 1, 3, 3, 2, 5, 4, 4, 3, 2, 5, 1, 2, 1, 2, 1, 2, 2, 3, 5, 6, 1, 6, 3, 1, 6, 4, 1, 1, 1, 2, 3, 5, 6, 3, 1, 1, 4, 2, 1, 6, 3, 6, 3, 4, 2, 6, 6, 3, 3, 2, 2, 6, 3, 1, 3, 2, 5, 1]\n"
          ]
        }
      ]
    }
  ]
}